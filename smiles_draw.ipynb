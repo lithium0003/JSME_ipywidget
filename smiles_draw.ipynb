{
 "cells": [
  {
   "cell_type": "code",
   "execution_count": 1,
   "metadata": {},
   "outputs": [],
   "source": [
    "from traitlets import Unicode, Bool, validate, TraitError\n",
    "from ipywidgets import DOMWidget, register\n",
    "\n",
    "@register\n",
    "class SmilesEditor(DOMWidget):\n",
    "    _view_name = Unicode('SmilesView').tag(sync=True)\n",
    "    _view_module = Unicode('smiles_widget').tag(sync=True)\n",
    "    _view_module_version = Unicode('0.1.0').tag(sync=True)\n",
    "\n",
    "    # Attributes\n",
    "    smiles = Unicode('', help=\"SMILES value\").tag(sync=True)\n",
    "    mol = Unicode('', help=\"mol value\").tag(sync=True)\n",
    "    \n",
    "    def __init__(self, *pargs, **kwargs):\n",
    "        init_struct = {}\n",
    "        if 'smiles' in kwargs:\n",
    "            init_struct['smiles'] = kwargs.pop('smiles')\n",
    "        if 'mol' in kwargs:\n",
    "            init_struct['mol'] = kwargs.pop('mol')\n",
    "        super().__init__(*pargs, **kwargs)\n",
    "        self.smiles = init_struct.get('smiles','')\n",
    "        self.mol = init_struct.get('mol','')\n"
   ]
  },
  {
   "cell_type": "code",
   "execution_count": 2,
   "metadata": {},
   "outputs": [
    {
     "data": {
      "application/javascript": [
       "require.undef('smiles_widget');\n",
       "require(['jsme/jsme.nocache.js'])\n",
       "define('smiles_widget', [\"@jupyter-widgets/base\"], function(widgets) {\n",
       "    var SmilesView = widgets.DOMWidgetView.extend({\n",
       "        // Render the view.\n",
       "        render: function() {\n",
       "            this.smiles_input = document.createElement('div');\n",
       "            this.smiles_input.id = \"jsme_container\";\n",
       "            this.smiles_display = document.createElement('div');\n",
       "            this.smiles_display.textContent=\"SMILES : \";\n",
       "            this.el.appendChild(this.smiles_display);\n",
       "            this.el.appendChild(this.smiles_input);\n",
       "            \n",
       "            this.changeFunc = function(jsme) {\n",
       "                let smiles = jsme.smiles();\n",
       "                let mol = jsme.molFile();\n",
       "                this.smiles_display.textContent=\"SMILES : \"+smiles;\n",
       "                this.model.set('smiles', smiles);\n",
       "                this.model.set('mol', mol);\n",
       "                this.model.save_changes();                \n",
       "            };\n",
       "            \n",
       "            function myFunc(callback, widget){\n",
       "                var param = {};\n",
       "                if (widget.model.get('smiles')) {\n",
       "                    param = {\"smiles\" : widget.model.get('smiles')};\n",
       "                }\n",
       "                if(widget.model.get('mol')) {\n",
       "                    param = {\"mol\" : widget.model.get('mol')};                    \n",
       "                }\n",
       "                let jsmeApplet = new JSApplet.JSME(\"jsme_container\", \"480px\", \"480px\",  param);\n",
       "                jsmeApplet.setCallBack(\"AfterStructureModified\", callback);\n",
       "                widget.changeFunc(jsmeApplet);\n",
       "            };\n",
       "            setTimeout(myFunc, 500, this.smilesChanged.bind(this), this);\n",
       "        },\n",
       "\n",
       "        smilesChanged: function(jsmeEvent) {\n",
       "            let jsme = jsmeEvent.src;\n",
       "            this.changeFunc(jsme);\n",
       "        },\n",
       "    });\n",
       "    return {\n",
       "        SmilesView: SmilesView\n",
       "    };\n",
       "});\n"
      ],
      "text/plain": [
       "<IPython.core.display.Javascript object>"
      ]
     },
     "metadata": {},
     "output_type": "display_data"
    }
   ],
   "source": [
    "%%javascript\n",
    "require.undef('smiles_widget');\n",
    "require(['jsme/jsme.nocache.js'])\n",
    "define('smiles_widget', [\"@jupyter-widgets/base\"], function(widgets) {\n",
    "    var SmilesView = widgets.DOMWidgetView.extend({\n",
    "        // Render the view.\n",
    "        render: function() {\n",
    "            this.smiles_input = document.createElement('div');\n",
    "            this.smiles_input.id = \"jsme_container\";\n",
    "            this.smiles_display = document.createElement('div');\n",
    "            this.smiles_display.textContent=\"SMILES : \";\n",
    "            this.el.appendChild(this.smiles_display);\n",
    "            this.el.appendChild(this.smiles_input);\n",
    "            \n",
    "            this.changeFunc = function(jsme) {\n",
    "                let smiles = jsme.smiles();\n",
    "                let mol = jsme.molFile();\n",
    "                this.smiles_display.textContent=\"SMILES : \"+smiles;\n",
    "                this.model.set('smiles', smiles);\n",
    "                this.model.set('mol', mol);\n",
    "                this.model.save_changes();                \n",
    "            };\n",
    "            \n",
    "            function myFunc(callback, widget){\n",
    "                var param = {};\n",
    "                if (widget.model.get('smiles')) {\n",
    "                    param = {\"smiles\" : widget.model.get('smiles')};\n",
    "                }\n",
    "                if(widget.model.get('mol')) {\n",
    "                    param = {\"mol\" : widget.model.get('mol')};                    \n",
    "                }\n",
    "                let jsmeApplet = new JSApplet.JSME(\"jsme_container\", \"480px\", \"480px\",  param);\n",
    "                jsmeApplet.setCallBack(\"AfterStructureModified\", callback);\n",
    "                widget.changeFunc(jsmeApplet);\n",
    "            };\n",
    "            setTimeout(myFunc, 500, this.smilesChanged.bind(this), this);\n",
    "        },\n",
    "\n",
    "        smilesChanged: function(jsmeEvent) {\n",
    "            let jsme = jsmeEvent.src;\n",
    "            this.changeFunc(jsme);\n",
    "        },\n",
    "    });\n",
    "    return {\n",
    "        SmilesView: SmilesView\n",
    "    };\n",
    "});"
   ]
  },
  {
   "cell_type": "code",
   "execution_count": 3,
   "metadata": {},
   "outputs": [],
   "source": [
    "mol= '''\n",
    "JME 2022-02-26 Mon Mar 21 14:45:41 GMT+900 2022\n",
    "\n",
    " 21 20  0  0  1  0  0  0  0  0999 V2000\n",
    "    3.6373    3.5000    0.0000 C   0  0  0  0  0  0  0  0  0  0  0  0\n",
    "    3.6373    2.1000    0.0000 C   0  0  0  0  0  0  0  0  0  0  0  0\n",
    "    4.8497    1.4000    0.0000 C   0  0  0  0  0  0  0  0  0  0  0  0\n",
    "    6.0621    2.1000    0.0000 C   0  0  0  0  0  0  0  0  0  0  0  0\n",
    "    6.0621    3.5000    0.0000 O   0  0  0  0  0  0  0  0  0  0  0  0\n",
    "    7.2747    1.4000    0.0000 N   0  0  0  0  0  0  0  0  0  0  0  0\n",
    "    8.4871    2.1000    0.0000 C   0  0  0  0  0  0  0  0  0  0  0  0\n",
    "    8.4871    3.5000    0.0000 C   0  0  0  0  0  0  0  0  0  0  0  0\n",
    "    7.2747    4.2000    0.0000 S   0  0  0  0  0  0  0  0  0  0  0  0\n",
    "    9.6995    1.4000    0.0000 C   0  0  0  0  0  0  0  0  0  0  0  0\n",
    "    9.6995    0.0000    0.0000 O   0  0  0  0  0  0  0  0  0  0  0  0\n",
    "   10.9119    2.1000    0.0000 N   0  0  0  0  0  0  0  0  0  0  0  0\n",
    "   12.1244    1.4000    0.0000 C   0  0  0  0  0  0  0  0  0  0  0  0\n",
    "   13.3368    2.1000    0.0000 C   0  0  0  0  0  0  0  0  0  0  0  0\n",
    "   14.5492    1.4000    0.0000 O   0  0  0  0  0  0  0  0  0  0  0  0\n",
    "   13.3368    3.5000    0.0000 O   0  0  0  0  0  0  0  0  0  0  0  0\n",
    "    2.4249    1.4000    0.0000 C   0  0  0  0  0  0  0  0  0  0  0  0\n",
    "    2.4249    0.0000    0.0000 N   0  0  0  0  0  0  0  0  0  0  0  0\n",
    "    1.2124    2.1000    0.0000 C   0  0  0  0  0  0  0  0  0  0  0  0\n",
    "    1.2124    3.5000    0.0000 O   0  0  0  0  0  0  0  0  0  0  0  0\n",
    "    0.0000    1.4000    0.0000 O   0  0  0  0  0  0  0  0  0  0  0  0\n",
    "  2  1  1  0  0  0  0\n",
    "  3  2  1  0  0  0  0\n",
    "  4  3  1  0  0  0  0\n",
    "  5  4  2  0  0  0  0\n",
    "  6  4  1  0  0  0  0\n",
    "  7  6  1  1  0  0  0\n",
    "  8  7  1  0  0  0  0\n",
    "  9  8  1  0  0  0  0\n",
    " 10  7  1  0  0  0  0\n",
    " 11 10  2  0  0  0  0\n",
    " 12 10  1  0  0  0  0\n",
    " 13 12  1  0  0  0  0\n",
    " 14 13  1  0  0  0  0\n",
    " 15 14  2  0  0  0  0\n",
    " 16 14  1  0  0  0  0\n",
    " 17  2  1  0  0  0  0\n",
    " 17 18  1  6  0  0  0\n",
    " 19 17  1  0  0  0  0\n",
    " 20 19  2  0  0  0  0\n",
    " 21 19  1  0  0  0  0\n",
    "M  END\n",
    "'''\n"
   ]
  },
  {
   "cell_type": "code",
   "execution_count": 4,
   "metadata": {},
   "outputs": [
    {
     "data": {
      "application/vnd.jupyter.widget-view+json": {
       "model_id": "d07bd42a38cf4bdf8c270cc498356d2f",
       "version_major": 2,
       "version_minor": 0
      },
      "text/plain": [
       "SmilesEditor(mol='\\nJME 2022-02-26 Mon Mar 21 14:45:41 GMT+900 2022\\n\\n 21 20  0  0  1  0  0  0  0  0999 V2000…"
      ]
     },
     "metadata": {},
     "output_type": "display_data"
    }
   ],
   "source": [
    "#editor = SmilesEditor(smiles='c1ccccc1')\n",
    "editor = SmilesEditor(mol=mol)\n",
    "editor"
   ]
  },
  {
   "cell_type": "code",
   "execution_count": 5,
   "metadata": {},
   "outputs": [
    {
     "data": {
      "text/plain": [
       "'CC(CC(=O)N[C@@H](CS)C(=O)NCC(=O)O)[C@H](N)C(=O)O'"
      ]
     },
     "execution_count": 5,
     "metadata": {},
     "output_type": "execute_result"
    }
   ],
   "source": [
    "editor.smiles"
   ]
  },
  {
   "cell_type": "code",
   "execution_count": 6,
   "metadata": {},
   "outputs": [
    {
     "name": "stdout",
     "output_type": "stream",
     "text": [
      "\n",
      "JME 2022-02-26 Mon Mar 21 14:50:37 GMT+900 2022\n",
      "\n",
      " 21 20  0  0  1  0  0  0  0  0999 V2000\n",
      "    3.6373    3.5000    0.0000 C   0  0  0  0  0  0  0  0  0  0  0  0\n",
      "    3.6373    2.1000    0.0000 C   0  0  0  0  0  0  0  0  0  0  0  0\n",
      "    4.8497    1.4000    0.0000 C   0  0  0  0  0  0  0  0  0  0  0  0\n",
      "    6.0621    2.1000    0.0000 C   0  0  0  0  0  0  0  0  0  0  0  0\n",
      "    6.0621    3.5000    0.0000 O   0  0  0  0  0  0  0  0  0  0  0  0\n",
      "    7.2747    1.4000    0.0000 N   0  0  0  0  0  0  0  0  0  0  0  0\n",
      "    8.4871    2.1000    0.0000 C   0  0  0  0  0  0  0  0  0  0  0  0\n",
      "    8.4871    3.5000    0.0000 C   0  0  0  0  0  0  0  0  0  0  0  0\n",
      "    7.2747    4.2000    0.0000 S   0  0  0  0  0  0  0  0  0  0  0  0\n",
      "    9.6995    1.4000    0.0000 C   0  0  0  0  0  0  0  0  0  0  0  0\n",
      "    9.6995    0.0000    0.0000 O   0  0  0  0  0  0  0  0  0  0  0  0\n",
      "   10.9119    2.1000    0.0000 N   0  0  0  0  0  0  0  0  0  0  0  0\n",
      "   12.1244    1.4000    0.0000 C   0  0  0  0  0  0  0  0  0  0  0  0\n",
      "   13.3368    2.1000    0.0000 C   0  0  0  0  0  0  0  0  0  0  0  0\n",
      "   14.5492    1.4000    0.0000 O   0  0  0  0  0  0  0  0  0  0  0  0\n",
      "   13.3368    3.5000    0.0000 O   0  0  0  0  0  0  0  0  0  0  0  0\n",
      "    2.4249    1.4000    0.0000 C   0  0  0  0  0  0  0  0  0  0  0  0\n",
      "    2.4249    0.0000    0.0000 N   0  0  0  0  0  0  0  0  0  0  0  0\n",
      "    1.2124    2.1000    0.0000 C   0  0  0  0  0  0  0  0  0  0  0  0\n",
      "    1.2124    3.5000    0.0000 O   0  0  0  0  0  0  0  0  0  0  0  0\n",
      "    0.0000    1.4000    0.0000 O   0  0  0  0  0  0  0  0  0  0  0  0\n",
      "  2  1  1  0  0  0  0\n",
      "  3  2  1  0  0  0  0\n",
      "  4  3  1  0  0  0  0\n",
      "  5  4  2  0  0  0  0\n",
      "  6  4  1  0  0  0  0\n",
      "  7  6  1  1  0  0  0\n",
      "  8  7  1  0  0  0  0\n",
      "  9  8  1  0  0  0  0\n",
      " 10  7  1  0  0  0  0\n",
      " 11 10  2  0  0  0  0\n",
      " 12 10  1  0  0  0  0\n",
      " 13 12  1  0  0  0  0\n",
      " 14 13  1  0  0  0  0\n",
      " 15 14  2  0  0  0  0\n",
      " 16 14  1  0  0  0  0\n",
      " 17  2  1  0  0  0  0\n",
      " 17 18  1  6  0  0  0\n",
      " 19 17  1  0  0  0  0\n",
      " 20 19  2  0  0  0  0\n",
      " 21 19  1  0  0  0  0\n",
      "M  END\n",
      "\n"
     ]
    }
   ],
   "source": [
    "print(editor.mol)"
   ]
  },
  {
   "cell_type": "code",
   "execution_count": null,
   "metadata": {},
   "outputs": [],
   "source": []
  }
 ],
 "metadata": {
  "kernelspec": {
   "display_name": "Python 3 (ipykernel)",
   "language": "python",
   "name": "python3"
  },
  "language_info": {
   "codemirror_mode": {
    "name": "ipython",
    "version": 3
   },
   "file_extension": ".py",
   "mimetype": "text/x-python",
   "name": "python",
   "nbconvert_exporter": "python",
   "pygments_lexer": "ipython3",
   "version": "3.10.0"
  }
 },
 "nbformat": 4,
 "nbformat_minor": 4
}
