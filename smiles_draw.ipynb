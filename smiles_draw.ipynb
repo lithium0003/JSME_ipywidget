{
 "cells": [
  {
   "cell_type": "code",
   "execution_count": null,
   "metadata": {},
   "outputs": [],
   "source": [
    "from traitlets import Unicode, Bool, validate, TraitError\n",
    "from ipywidgets import DOMWidget, register\n",
    "\n",
    "@register\n",
    "class SmilesEditor(DOMWidget):\n",
    "    _view_name = Unicode('SmilesView').tag(sync=True)\n",
    "    _view_module = Unicode('smiles_widget').tag(sync=True)\n",
    "    _view_module_version = Unicode('0.1.0').tag(sync=True)\n",
    "\n",
    "    # Attributes\n",
    "    value = Unicode('', help=\"SMILES value\").tag(sync=True)"
   ]
  },
  {
   "cell_type": "code",
   "execution_count": null,
   "metadata": {},
   "outputs": [],
   "source": [
    "%%javascript\n",
    "require.undef('smiles_widget');\n",
    "require(['jsme/jsme.nocache.js'])\n",
    "define('smiles_widget', [\"@jupyter-widgets/base\"], function(widgets) {\n",
    "    var SmilesView = widgets.DOMWidgetView.extend({\n",
    "        // Render the view.\n",
    "        render: function() {\n",
    "            this.smiles_input = document.createElement('div');\n",
    "            this.smiles_input.id = \"jsme_container\";\n",
    "            this.smiles_display = document.createElement('div');\n",
    "            this.smiles_display.textContent=\"SMILES : \";\n",
    "            this.el.appendChild(this.smiles_display);\n",
    "            this.el.appendChild(this.smiles_input);\n",
    "\n",
    "            function myFunc(callback){\n",
    "                let jsmeApplet = new JSApplet.JSME(\"jsme_container\", \"480px\", \"480px\");\n",
    "                jsmeApplet.setCallBack(\"AfterStructureModified\", callback);\n",
    "            };\n",
    "            setTimeout(myFunc, 500, this.smilesChanged.bind(this));\n",
    "        },\n",
    "\n",
    "        smilesChanged: function(jsmeEvent) {\n",
    "            console.log(this, jsmeEvent)\n",
    "            let jsme = jsmeEvent.src;\n",
    "            let smiles = jsme.smiles();\n",
    "            this.smiles_display.textContent=\"SMILES : \"+smiles;\n",
    "            this.model.set('value', smiles);\n",
    "            this.model.save_changes();\n",
    "        },\n",
    "    });\n",
    "    return {\n",
    "        SmilesView: SmilesView\n",
    "    };\n",
    "});\n"
   ]
  },
  {
   "cell_type": "code",
   "execution_count": null,
   "metadata": {},
   "outputs": [],
   "source": [
    "smiles = SmilesEditor()\n",
    "smiles"
   ]
  },
  {
   "cell_type": "code",
   "execution_count": null,
   "metadata": {},
   "outputs": [],
   "source": [
    "smiles.value"
   ]
  },
  {
   "cell_type": "code",
   "execution_count": null,
   "metadata": {},
   "outputs": [],
   "source": []
  }
 ],
 "metadata": {
  "kernelspec": {
   "display_name": "Python 3",
   "language": "python",
   "name": "python3"
  },
  "language_info": {
   "codemirror_mode": {
    "name": "ipython",
    "version": 3
   },
   "file_extension": ".py",
   "mimetype": "text/x-python",
   "name": "python",
   "nbconvert_exporter": "python",
   "pygments_lexer": "ipython3",
   "version": "3.8.4"
  }
 },
 "nbformat": 4,
 "nbformat_minor": 4
}
