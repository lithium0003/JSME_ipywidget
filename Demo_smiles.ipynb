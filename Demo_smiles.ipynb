{
 "cells": [
  {
   "cell_type": "code",
   "execution_count": 1,
   "id": "f336ec43-5000-4c6a-b482-907d2ebc926b",
   "metadata": {
    "editable": true,
    "scrolled": true,
    "slideshow": {
     "slide_type": ""
    },
    "tags": []
   },
   "outputs": [],
   "source": [
    "from jsmewidget import SmilesEditorWidget"
   ]
  },
  {
   "cell_type": "code",
   "execution_count": 2,
   "id": "ee6c2820-34f4-417a-9ad8-a79a7b71d4c2",
   "metadata": {},
   "outputs": [],
   "source": [
    "w = SmilesEditorWidget(smiles=\"Nc1ccccc1\")"
   ]
  },
  {
   "cell_type": "code",
   "execution_count": 3,
   "id": "09b6e63a-d4d0-40ea-8921-7dcde78979c0",
   "metadata": {},
   "outputs": [
    {
     "data": {
      "application/vnd.jupyter.widget-view+json": {
       "model_id": "2e519739c3314d31b7c20606c8de9c71",
       "version_major": 2,
       "version_minor": 0
      },
      "text/plain": [
       "SmilesEditorWidget(value=None, smiles='Nc1ccccc1')"
      ]
     },
     "metadata": {},
     "output_type": "display_data"
    }
   ],
   "source": [
    "display(w)"
   ]
  },
  {
   "cell_type": "code",
   "execution_count": null,
   "id": "1a935f34-629f-4e8b-9200-b10d8efe9be1",
   "metadata": {},
   "outputs": [],
   "source": []
  }
 ],
 "metadata": {
  "kernelspec": {
   "display_name": "Python 3 (ipykernel)",
   "language": "python",
   "name": "python3"
  },
  "language_info": {
   "codemirror_mode": {
    "name": "ipython",
    "version": 3
   },
   "file_extension": ".py",
   "mimetype": "text/x-python",
   "name": "python",
   "nbconvert_exporter": "python",
   "pygments_lexer": "ipython3",
   "version": "3.13.5"
  }
 },
 "nbformat": 4,
 "nbformat_minor": 5
}
