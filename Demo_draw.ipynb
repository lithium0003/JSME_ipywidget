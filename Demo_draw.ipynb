{
 "cells": [
  {
   "cell_type": "code",
   "execution_count": 1,
   "id": "f336ec43-5000-4c6a-b482-907d2ebc926b",
   "metadata": {
    "editable": true,
    "scrolled": true,
    "slideshow": {
     "slide_type": ""
    },
    "tags": []
   },
   "outputs": [],
   "source": [
    "from jsmewidget import SmilesEditorWidget"
   ]
  },
  {
   "cell_type": "code",
   "execution_count": 2,
   "id": "0cb012b5-f585-4c65-8984-e2b87ec3b6df",
   "metadata": {},
   "outputs": [],
   "source": [
    "w = SmilesEditorWidget()"
   ]
  },
  {
   "cell_type": "code",
   "execution_count": 3,
   "id": "09b6e63a-d4d0-40ea-8921-7dcde78979c0",
   "metadata": {},
   "outputs": [
    {
     "data": {
      "application/vnd.jupyter.widget-view+json": {
       "model_id": "d94dd924d93e4125b29787a1b9551976",
       "version_major": 2,
       "version_minor": 0
      },
      "text/plain": [
       "SmilesEditorWidget(value=None)"
      ]
     },
     "metadata": {},
     "output_type": "display_data"
    }
   ],
   "source": [
    "display(w)\n",
    "# edit molecule"
   ]
  },
  {
   "cell_type": "code",
   "execution_count": 4,
   "id": "baa8e742-55fe-4020-97f3-5e0a85ca3045",
   "metadata": {},
   "outputs": [
    {
     "data": {
      "text/plain": [
       "'C1CCCCC1'"
      ]
     },
     "execution_count": 4,
     "metadata": {},
     "output_type": "execute_result"
    }
   ],
   "source": [
    "w.smiles"
   ]
  },
  {
   "cell_type": "code",
   "execution_count": 5,
   "id": "5fe23f1a-174b-4d40-be46-940e56e810e2",
   "metadata": {},
   "outputs": [
    {
     "name": "stdout",
     "output_type": "stream",
     "text": [
      "\n",
      "JME 2024-04-29 Sun Jul 06 02:03:58 GMT+900 2025\n",
      "\n",
      "  6  6  0  0  0  0  0  0  0  0999 V2000\n",
      "    2.4249    0.7000    0.0000 C   0  0  0  0  0  0  0  0  0  0  0  0\n",
      "    2.4249    2.1000    0.0000 C   0  0  0  0  0  0  0  0  0  0  0  0\n",
      "    1.2124    2.8000    0.0000 C   0  0  0  0  0  0  0  0  0  0  0  0\n",
      "    0.0000    2.1000    0.0000 C   0  0  0  0  0  0  0  0  0  0  0  0\n",
      "    0.0000    0.7000    0.0000 C   0  0  0  0  0  0  0  0  0  0  0  0\n",
      "    1.2124    0.0000    0.0000 C   0  0  0  0  0  0  0  0  0  0  0  0\n",
      "  1  2  1  0  0  0  0\n",
      "  2  3  1  0  0  0  0\n",
      "  3  4  1  0  0  0  0\n",
      "  4  5  1  0  0  0  0\n",
      "  5  6  1  0  0  0  0\n",
      "  6  1  1  0  0  0  0\n",
      "M  END\n",
      "\n"
     ]
    }
   ],
   "source": [
    "print(w.mol)"
   ]
  }
 ],
 "metadata": {
  "kernelspec": {
   "display_name": "Python 3 (ipykernel)",
   "language": "python",
   "name": "python3"
  },
  "language_info": {
   "codemirror_mode": {
    "name": "ipython",
    "version": 3
   },
   "file_extension": ".py",
   "mimetype": "text/x-python",
   "name": "python",
   "nbconvert_exporter": "python",
   "pygments_lexer": "ipython3",
   "version": "3.13.5"
  }
 },
 "nbformat": 4,
 "nbformat_minor": 5
}
