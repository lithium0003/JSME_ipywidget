{
 "cells": [
  {
   "cell_type": "code",
   "execution_count": 1,
   "id": "f336ec43-5000-4c6a-b482-907d2ebc926b",
   "metadata": {
    "editable": true,
    "scrolled": true,
    "slideshow": {
     "slide_type": ""
    },
    "tags": []
   },
   "outputs": [],
   "source": [
    "from jsmewidget import SmilesEditorWidget"
   ]
  },
  {
   "cell_type": "code",
   "execution_count": 2,
   "id": "0cb012b5-f585-4c65-8984-e2b87ec3b6df",
   "metadata": {},
   "outputs": [],
   "source": [
    "w = SmilesEditorWidget(mol=\"\"\"\n",
    "JME 2024-04-29 Sun Jul 06 01:37:55 GMT+900 2025\n",
    "\n",
    "  6  6  0  0  0  0  0  0  0  0999 V2000\n",
    "    2.4249    0.7000    0.0000 C   0  0  0  0  0  0  0  0  0  0  0  0\n",
    "    2.4249    2.1000    0.0000 C   0  0  0  0  0  0  0  0  0  0  0  0\n",
    "    1.2124    2.8000    0.0000 C   0  0  0  0  0  0  0  0  0  0  0  0\n",
    "    0.0000    2.1000    0.0000 C   0  0  0  0  0  0  0  0  0  0  0  0\n",
    "    0.0000    0.7000    0.0000 C   0  0  0  0  0  0  0  0  0  0  0  0\n",
    "    1.2124    0.0000    0.0000 C   0  0  0  0  0  0  0  0  0  0  0  0\n",
    "  1  2  1  0  0  0  0\n",
    "  2  3  2  0  0  0  0\n",
    "  3  4  1  0  0  0  0\n",
    "  4  5  2  0  0  0  0\n",
    "  5  6  1  0  0  0  0\n",
    "  6  1  2  0  0  0  0\n",
    "M  END\n",
    "\"\"\")"
   ]
  },
  {
   "cell_type": "code",
   "execution_count": 3,
   "id": "09b6e63a-d4d0-40ea-8921-7dcde78979c0",
   "metadata": {},
   "outputs": [
    {
     "data": {
      "application/vnd.jupyter.widget-view+json": {
       "model_id": "f4e609eb14d54ff495806c33576711d5",
       "version_major": 2,
       "version_minor": 0
      },
      "text/plain": [
       "SmilesEditorWidget(value=None, mol='\\nJME 2024-04-29 Sun Jul 06 01:37:55 GMT+900 2025\\n\\n  6  6  0  0  0  0  0…"
      ]
     },
     "metadata": {},
     "output_type": "display_data"
    }
   ],
   "source": [
    "display(w)"
   ]
  }
 ],
 "metadata": {
  "kernelspec": {
   "display_name": "Python 3 (ipykernel)",
   "language": "python",
   "name": "python3"
  },
  "language_info": {
   "codemirror_mode": {
    "name": "ipython",
    "version": 3
   },
   "file_extension": ".py",
   "mimetype": "text/x-python",
   "name": "python",
   "nbconvert_exporter": "python",
   "pygments_lexer": "ipython3",
   "version": "3.13.5"
  }
 },
 "nbformat": 4,
 "nbformat_minor": 5
}
